{
 "cells": [
  {
   "cell_type": "markdown",
   "id": "d419847c-27a7-404a-ac81-0091deeabeab",
   "metadata": {},
   "source": [
    "Q1. What is Abstraction in OOps? Explain with an example. "
   ]
  },
  {
   "cell_type": "markdown",
   "id": "814e70b4-a90a-443b-a801-e86c33520102",
   "metadata": {},
   "source": [
    "Abstraction is used to hide the internal functionality of the function from the users. The users only interact with the basic implementation of the function, but inner working is hidden. User is familiar with that \"what function does\" but they don't know \"how it does.\"\n",
    "In simple words, we all use the smartphone and very much familiar with its functions such as camera, voice-recorder, call-dialing, etc., but we don't know how these operations are happening in the background. \n",
    "Let's take another example - When we use the TV remote to increase the volume. We don't know how pressing a key increases the volume of the TV. We only know to press the \"+\" button to increase the volume. "
   ]
  },
  {
   "cell_type": "markdown",
   "id": "032aba26-2f6a-4dbb-94cc-04f63b545a83",
   "metadata": {},
   "source": [
    "Q2. Differentiate between Abstraction and Encapsulation. Explain with an example. "
   ]
  },
  {
   "cell_type": "markdown",
   "id": "135e0403-a57a-4a99-838d-cd539373af8e",
   "metadata": {},
   "source": [
    "Abstraction and Encapsulation are related concepts in Object-Oriented Programming (OOP), but they are different in their nature and purpose.Abstraction refers to the process of hiding the implementation details of an object and presenting only the relevant information to the outside world. It helps in reducing the complexity of an object and making it easier to understand and use.\n",
    "Encapsulation refers to the process of binding data and the methods that operate on that data within a single unit or object. It provides a protective shield to the data of an object and restricts the direct access to the data from outside the object. This helps in ensuring the data integrity and security of an object.\n",
    "For example, consider a bank account object in OOP. The abstraction of the bank account object could be represented by its properties such as account number and balance, and methods such as deposit and withdraw. The user of this bank account object does not need to know the internal workings of how the bank manages the account, such as how the deposit or withdraw methods update the balance.\n",
    "The encapsulation of the bank account object could be achieved by declaring the properties such as account number and balance as private, and providing the methods such as deposit and withdraw as public. This encapsulation ensures that the user can only access the account information through the provided methods and cannot directly access or modify the account number or balance properties.\n",
    "In summary, Abstraction focuses on hiding the implementation details, while Encapsulation focuses on binding the data and methods within a single unit and restricting the direct access to the data."
   ]
  },
  {
   "cell_type": "markdown",
   "id": "92530fa9-b09d-4618-b335-5d9497964729",
   "metadata": {},
   "source": [
    "Q3. What is abc module in python? Why is it used? "
   ]
  },
  {
   "cell_type": "markdown",
   "id": "67ef85a1-2751-49c8-b1cf-f4220e355e40",
   "metadata": {},
   "source": [
    "The abc module in Python is the Abstract Base Class module. It provides a way to define abstract base classes (ABCs) in Python, which are classes that cannot be instantiated and are meant to be subclassed. ABCs provide a way to specify an interface that must be implemented by its concrete subclasses.\n",
    "\n",
    "The abc module is used for creating abstract base classes in Python, which can be useful in situations where you want to define a common interface for a set of related classes. By defining an ABC, you can enforce that all concrete implementations of the class adhere to a certain interface. This helps in ensuring that the concrete implementations have certain properties, methods, or behaviors and makes it easier to use them interchangeably.\n",
    "\n",
    "For example, you could define an ABC for a data structure that requires the implementation of certain methods, such as push() and pop(), and then have different concrete implementations of the data structure, such as a Stack or Queue, inherit from the ABC and implement the required methods. This helps in ensuring that all implementations of the data structure have the necessary methods and makes it easier to write code that can work with different implementations interchangeably."
   ]
  },
  {
   "cell_type": "markdown",
   "id": "92a9d82d-d2af-406f-b088-f9363ad8162f",
   "metadata": {},
   "source": [
    "Q4. How can we achieve data abstraction? "
   ]
  },
  {
   "cell_type": "markdown",
   "id": "aec2d602-1be1-48b2-a7f6-0c7ec79d7fac",
   "metadata": {},
   "source": [
    "Data Abstraction is a technique to hide the internal implementation details of an object and present only the relevant information to the outside world. There are several ways to achieve data abstraction in Object-Oriented Programming (OOP):\n",
    "\n",
    "Encapsulation: This is the process of binding data and the methods that operate on that data within a single unit or object. By encapsulating data within an object, you can restrict direct access to the data from outside the object and ensure data integrity and security.\n",
    "\n",
    "Access Modifiers: Access modifiers such as private, protected, and public can be used to control the accessibility of data members and methods within a class. By declaring data members as private, you can restrict direct access to the data from outside the object, thereby implementing data abstraction.\n",
    "\n",
    "Abstract Classes: Abstract classes are classes that cannot be instantiated and are meant to be subclassed. They provide a way to define an interface that must be implemented by its concrete subclasses. By defining abstract classes and methods, you can enforce a certain interface on the concrete implementations, thereby achieving data abstraction.\n",
    "\n",
    "Interfaces: Interfaces are similar to abstract classes in that they define a set of methods that must be implemented by any class that implements the interface. Interfaces can be used to achieve data abstraction by defining a common interface for a set of related classes.\n",
    "\n",
    "These techniques can be used in combination to achieve data abstraction in OOP and make the code more organized, efficient, and maintainable."
   ]
  },
  {
   "cell_type": "markdown",
   "id": "37d4bc2d-2bbd-45a5-a689-58c80746da99",
   "metadata": {},
   "source": [
    "Q5. Can we create an instance of an abstract class? Explain your answer. "
   ]
  },
  {
   "cell_type": "markdown",
   "id": "c9e0997e-8132-41bf-9cb6-a848302cea12",
   "metadata": {},
   "source": [
    "No, we cannot create an instance of an abstract class. An abstract class is a class that is meant to be subclassed and cannot be instantiated directly.\n",
    "\n",
    "The purpose of an abstract class is to provide a common interface for a set of related classes. By defining an abstract class, you can enforce certain properties, methods, or behaviors that must be present in all concrete implementations of the class. However, an abstract class itself is not a complete implementation, and therefore cannot be instantiated.\n",
    "\n",
    "To use an abstract class, you must create a concrete implementation of the class by subclassing it and providing a concrete implementation for the abstract methods defined in the abstract class. Only then can you create instances of the concrete implementation and use them in your code.\n",
    "\n",
    "In summary, abstract classes are a blueprint for a set of related classes, and cannot be instantiated themselves. To use an abstract class, you must create a concrete implementation by subclassing it and providing concrete implementations for the abstract methods."
   ]
  },
  {
   "cell_type": "code",
   "execution_count": null,
   "id": "1f4f08ba-58c9-4e77-ae41-62494943f090",
   "metadata": {},
   "outputs": [],
   "source": []
  }
 ],
 "metadata": {
  "kernelspec": {
   "display_name": "Python 3 (ipykernel)",
   "language": "python",
   "name": "python3"
  },
  "language_info": {
   "codemirror_mode": {
    "name": "ipython",
    "version": 3
   },
   "file_extension": ".py",
   "mimetype": "text/x-python",
   "name": "python",
   "nbconvert_exporter": "python",
   "pygments_lexer": "ipython3",
   "version": "3.10.8"
  }
 },
 "nbformat": 4,
 "nbformat_minor": 5
}
